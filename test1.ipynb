{
 "cells": [
  {
   "cell_type": "code",
   "execution_count": 6,
   "id": "ae547529",
   "metadata": {},
   "outputs": [],
   "source": [
    "import mysql.connector as connection\n",
    "import pandas as pd"
   ]
  },
  {
   "cell_type": "code",
   "execution_count": 7,
   "id": "4d3c1300",
   "metadata": {},
   "outputs": [
    {
     "name": "stderr",
     "output_type": "stream",
     "text": [
      "C:\\Users\\THINKPAD\\AppData\\Local\\Temp\\ipykernel_11656\\2276317592.py:4: UserWarning: pandas only supports SQLAlchemy connectable (engine/connection) or database string URI or sqlite3 DBAPI2 connection. Other DBAPI2 objects are not tested. Please consider using SQLAlchemy.\n",
      "  result = pd.read_sql(query, database)\n"
     ]
    }
   ],
   "source": [
    "try:\n",
    "    database = connection.connect(host=\"localhost\", database='retrowheels', user=\"root\", passwd=\"\", use_pure=True)\n",
    "    query = \"SELECT COUNT(*) AS total_customers, COUNT(DISTINCT city) AS total_cities, COUNT(DISTINCT country) AS total_counties FROM customers;\"\n",
    "    result = pd.read_sql(query, database)\n",
    "    database.close()\n",
    "except Exception as e:\n",
    "    database.close()\n",
    "    print(str(e))"
   ]
  },
  {
   "cell_type": "code",
   "execution_count": 8,
   "id": "3a69a547",
   "metadata": {},
   "outputs": [
    {
     "data": {
      "text/html": [
       "<div>\n",
       "<style scoped>\n",
       "    .dataframe tbody tr th:only-of-type {\n",
       "        vertical-align: middle;\n",
       "    }\n",
       "\n",
       "    .dataframe tbody tr th {\n",
       "        vertical-align: top;\n",
       "    }\n",
       "\n",
       "    .dataframe thead th {\n",
       "        text-align: right;\n",
       "    }\n",
       "</style>\n",
       "<table border=\"1\" class=\"dataframe\">\n",
       "  <thead>\n",
       "    <tr style=\"text-align: right;\">\n",
       "      <th></th>\n",
       "      <th>total_customers</th>\n",
       "      <th>total_cities</th>\n",
       "      <th>total_counties</th>\n",
       "    </tr>\n",
       "  </thead>\n",
       "  <tbody>\n",
       "    <tr>\n",
       "      <th>0</th>\n",
       "      <td>122</td>\n",
       "      <td>95</td>\n",
       "      <td>27</td>\n",
       "    </tr>\n",
       "  </tbody>\n",
       "</table>\n",
       "</div>"
      ],
      "text/plain": [
       "   total_customers  total_cities  total_counties\n",
       "0              122            95              27"
      ]
     },
     "execution_count": 8,
     "metadata": {},
     "output_type": "execute_result"
    }
   ],
   "source": [
    "result"
   ]
  },
  {
   "cell_type": "code",
   "execution_count": 9,
   "id": "960505f5",
   "metadata": {},
   "outputs": [
    {
     "name": "stderr",
     "output_type": "stream",
     "text": [
      "C:\\Users\\THINKPAD\\AppData\\Local\\Temp\\ipykernel_11656\\1561287565.py:4: UserWarning: pandas only supports SQLAlchemy connectable (engine/connection) or database string URI or sqlite3 DBAPI2 connection. Other DBAPI2 objects are not tested. Please consider using SQLAlchemy.\n",
      "  result = pd.read_sql(query, database)\n"
     ]
    }
   ],
   "source": [
    "try:\n",
    "    database = connection.connect(host=\"localhost\", database='retrowheels', user=\"root\", passwd=\"\", use_pure=True)\n",
    "    query = \"SELECT (SELECT COUNT(*) FROM employees) AS total_employees, (SELECT COUNT(*) FROM offices) AS total_offices, (SELECT COUNT(DISTINCT country) FROM offices) AS total_countries, (SELECT COUNT(*) FROM products) AS total_products, (SELECT SUM(quantityInStock) FROM products) AS total_stock, (SELECT COUNT(DISTINCT productVendor) FROM products) AS vendor;\"\n",
    "    result = pd.read_sql(query, database)\n",
    "    database.close()\n",
    "except Exception as e:\n",
    "    database.close()\n",
    "    print(str(e))"
   ]
  },
  {
   "cell_type": "code",
   "execution_count": 10,
   "id": "bd6e1238",
   "metadata": {},
   "outputs": [
    {
     "data": {
      "text/html": [
       "<div>\n",
       "<style scoped>\n",
       "    .dataframe tbody tr th:only-of-type {\n",
       "        vertical-align: middle;\n",
       "    }\n",
       "\n",
       "    .dataframe tbody tr th {\n",
       "        vertical-align: top;\n",
       "    }\n",
       "\n",
       "    .dataframe thead th {\n",
       "        text-align: right;\n",
       "    }\n",
       "</style>\n",
       "<table border=\"1\" class=\"dataframe\">\n",
       "  <thead>\n",
       "    <tr style=\"text-align: right;\">\n",
       "      <th></th>\n",
       "      <th>total_employees</th>\n",
       "      <th>total_offices</th>\n",
       "      <th>total_countries</th>\n",
       "      <th>total_products</th>\n",
       "      <th>total_stock</th>\n",
       "      <th>vendor</th>\n",
       "    </tr>\n",
       "  </thead>\n",
       "  <tbody>\n",
       "    <tr>\n",
       "      <th>0</th>\n",
       "      <td>23</td>\n",
       "      <td>7</td>\n",
       "      <td>5</td>\n",
       "      <td>110</td>\n",
       "      <td>555131.0</td>\n",
       "      <td>13</td>\n",
       "    </tr>\n",
       "  </tbody>\n",
       "</table>\n",
       "</div>"
      ],
      "text/plain": [
       "   total_employees  total_offices  total_countries  total_products  \\\n",
       "0               23              7                5             110   \n",
       "\n",
       "   total_stock  vendor  \n",
       "0     555131.0      13  "
      ]
     },
     "execution_count": 10,
     "metadata": {},
     "output_type": "execute_result"
    }
   ],
   "source": [
    "result"
   ]
  },
  {
   "cell_type": "code",
   "execution_count": 11,
   "id": "65fa3488",
   "metadata": {},
   "outputs": [
    {
     "name": "stderr",
     "output_type": "stream",
     "text": [
      "C:\\Users\\THINKPAD\\AppData\\Local\\Temp\\ipykernel_11656\\4127956096.py:4: UserWarning: pandas only supports SQLAlchemy connectable (engine/connection) or database string URI or sqlite3 DBAPI2 connection. Other DBAPI2 objects are not tested. Please consider using SQLAlchemy.\n",
      "  result = pd.read_sql(query, database)\n"
     ]
    }
   ],
   "source": [
    "try:\n",
    "    database = connection.connect(host=\"localhost\", database='retrowheels', user=\"root\", passwd=\"\", use_pure=True)\n",
    "    query =\"SELECT productLine, MIN(buyPrice) AS minPrice, MAX(buyPrice) AS maxPrice FROM products GROUP BY productLine\"\n",
    "    result = pd.read_sql(query, database)\n",
    "    database.close()\n",
    "except Exception as e:\n",
    "    database.close()\n",
    "    print(str(e))"
   ]
  },
  {
   "cell_type": "code",
   "execution_count": 12,
   "id": "35a1f3df",
   "metadata": {},
   "outputs": [
    {
     "data": {
      "text/html": [
       "<div>\n",
       "<style scoped>\n",
       "    .dataframe tbody tr th:only-of-type {\n",
       "        vertical-align: middle;\n",
       "    }\n",
       "\n",
       "    .dataframe tbody tr th {\n",
       "        vertical-align: top;\n",
       "    }\n",
       "\n",
       "    .dataframe thead th {\n",
       "        text-align: right;\n",
       "    }\n",
       "</style>\n",
       "<table border=\"1\" class=\"dataframe\">\n",
       "  <thead>\n",
       "    <tr style=\"text-align: right;\">\n",
       "      <th></th>\n",
       "      <th>productLine</th>\n",
       "      <th>minPrice</th>\n",
       "      <th>maxPrice</th>\n",
       "    </tr>\n",
       "  </thead>\n",
       "  <tbody>\n",
       "    <tr>\n",
       "      <th>0</th>\n",
       "      <td>Classic Cars</td>\n",
       "      <td>15.91</td>\n",
       "      <td>103.42</td>\n",
       "    </tr>\n",
       "    <tr>\n",
       "      <th>1</th>\n",
       "      <td>Motorcycles</td>\n",
       "      <td>24.14</td>\n",
       "      <td>91.02</td>\n",
       "    </tr>\n",
       "    <tr>\n",
       "      <th>2</th>\n",
       "      <td>Planes</td>\n",
       "      <td>29.34</td>\n",
       "      <td>77.27</td>\n",
       "    </tr>\n",
       "    <tr>\n",
       "      <th>3</th>\n",
       "      <td>Ships</td>\n",
       "      <td>33.30</td>\n",
       "      <td>82.34</td>\n",
       "    </tr>\n",
       "    <tr>\n",
       "      <th>4</th>\n",
       "      <td>Trains</td>\n",
       "      <td>26.72</td>\n",
       "      <td>67.56</td>\n",
       "    </tr>\n",
       "    <tr>\n",
       "      <th>5</th>\n",
       "      <td>Trucks and Buses</td>\n",
       "      <td>24.92</td>\n",
       "      <td>84.76</td>\n",
       "    </tr>\n",
       "    <tr>\n",
       "      <th>6</th>\n",
       "      <td>Vintage Cars</td>\n",
       "      <td>20.61</td>\n",
       "      <td>86.70</td>\n",
       "    </tr>\n",
       "  </tbody>\n",
       "</table>\n",
       "</div>"
      ],
      "text/plain": [
       "        productLine  minPrice  maxPrice\n",
       "0      Classic Cars     15.91    103.42\n",
       "1       Motorcycles     24.14     91.02\n",
       "2            Planes     29.34     77.27\n",
       "3             Ships     33.30     82.34\n",
       "4            Trains     26.72     67.56\n",
       "5  Trucks and Buses     24.92     84.76\n",
       "6      Vintage Cars     20.61     86.70"
      ]
     },
     "execution_count": 12,
     "metadata": {},
     "output_type": "execute_result"
    }
   ],
   "source": [
    "result"
   ]
  },
  {
   "cell_type": "code",
   "execution_count": 13,
   "id": "f00389ea",
   "metadata": {},
   "outputs": [
    {
     "name": "stderr",
     "output_type": "stream",
     "text": [
      "C:\\Users\\THINKPAD\\AppData\\Local\\Temp\\ipykernel_11656\\3899996008.py:4: UserWarning: pandas only supports SQLAlchemy connectable (engine/connection) or database string URI or sqlite3 DBAPI2 connection. Other DBAPI2 objects are not tested. Please consider using SQLAlchemy.\n",
      "  result = pd.read_sql(query, database)\n"
     ]
    }
   ],
   "source": [
    "try:\n",
    "    database = connection.connect(host=\"localhost\", database='retrowheels', user=\"root\", passwd=\"\", use_pure=True)\n",
    "    query =\"SELECT c.customerName, c.city, c.country, SUM(p.amount) AS total FROM customers c JOIN payments p ON c.customerNumber = p.customerNumber GROUP BY c.customerName, c.city, c.country ORDER BY total DESC LIMIT 10;\"\n",
    "    result = pd.read_sql(query, database)\n",
    "    database.close()\n",
    "except Exception as e:\n",
    "    database.close()\n",
    "    print(str(e))"
   ]
  },
  {
   "cell_type": "code",
   "execution_count": 14,
   "id": "b4bb71d0",
   "metadata": {},
   "outputs": [
    {
     "data": {
      "text/html": [
       "<div>\n",
       "<style scoped>\n",
       "    .dataframe tbody tr th:only-of-type {\n",
       "        vertical-align: middle;\n",
       "    }\n",
       "\n",
       "    .dataframe tbody tr th {\n",
       "        vertical-align: top;\n",
       "    }\n",
       "\n",
       "    .dataframe thead th {\n",
       "        text-align: right;\n",
       "    }\n",
       "</style>\n",
       "<table border=\"1\" class=\"dataframe\">\n",
       "  <thead>\n",
       "    <tr style=\"text-align: right;\">\n",
       "      <th></th>\n",
       "      <th>customerName</th>\n",
       "      <th>city</th>\n",
       "      <th>country</th>\n",
       "      <th>total</th>\n",
       "    </tr>\n",
       "  </thead>\n",
       "  <tbody>\n",
       "    <tr>\n",
       "      <th>0</th>\n",
       "      <td>Euro+ Shopping Channel</td>\n",
       "      <td>Madrid</td>\n",
       "      <td>Spain</td>\n",
       "      <td>715738.98</td>\n",
       "    </tr>\n",
       "    <tr>\n",
       "      <th>1</th>\n",
       "      <td>Mini Gifts Distributors Ltd.</td>\n",
       "      <td>San Rafael</td>\n",
       "      <td>USA</td>\n",
       "      <td>584188.24</td>\n",
       "    </tr>\n",
       "    <tr>\n",
       "      <th>2</th>\n",
       "      <td>Australian Collectors, Co.</td>\n",
       "      <td>Melbourne</td>\n",
       "      <td>Australia</td>\n",
       "      <td>180585.07</td>\n",
       "    </tr>\n",
       "    <tr>\n",
       "      <th>3</th>\n",
       "      <td>Muscle Machine Inc</td>\n",
       "      <td>NYC</td>\n",
       "      <td>USA</td>\n",
       "      <td>177913.95</td>\n",
       "    </tr>\n",
       "    <tr>\n",
       "      <th>4</th>\n",
       "      <td>Dragon Souveniers, Ltd.</td>\n",
       "      <td>Singapore</td>\n",
       "      <td>Singapore</td>\n",
       "      <td>156251.03</td>\n",
       "    </tr>\n",
       "    <tr>\n",
       "      <th>5</th>\n",
       "      <td>Down Under Souveniers, Inc</td>\n",
       "      <td>Auckland</td>\n",
       "      <td>New Zealand</td>\n",
       "      <td>154622.08</td>\n",
       "    </tr>\n",
       "    <tr>\n",
       "      <th>6</th>\n",
       "      <td>AV Stores, Co.</td>\n",
       "      <td>Manchester</td>\n",
       "      <td>UK</td>\n",
       "      <td>148410.09</td>\n",
       "    </tr>\n",
       "    <tr>\n",
       "      <th>7</th>\n",
       "      <td>Anna's Decorations, Ltd</td>\n",
       "      <td>North Sydney</td>\n",
       "      <td>Australia</td>\n",
       "      <td>137034.22</td>\n",
       "    </tr>\n",
       "    <tr>\n",
       "      <th>8</th>\n",
       "      <td>Corporate Gift Ideas Co.</td>\n",
       "      <td>San Francisco</td>\n",
       "      <td>USA</td>\n",
       "      <td>132340.78</td>\n",
       "    </tr>\n",
       "    <tr>\n",
       "      <th>9</th>\n",
       "      <td>Saveley &amp; Henriot, Co.</td>\n",
       "      <td>Lyon</td>\n",
       "      <td>France</td>\n",
       "      <td>130305.35</td>\n",
       "    </tr>\n",
       "  </tbody>\n",
       "</table>\n",
       "</div>"
      ],
      "text/plain": [
       "                   customerName           city      country      total\n",
       "0        Euro+ Shopping Channel         Madrid        Spain  715738.98\n",
       "1  Mini Gifts Distributors Ltd.     San Rafael          USA  584188.24\n",
       "2    Australian Collectors, Co.      Melbourne    Australia  180585.07\n",
       "3            Muscle Machine Inc            NYC          USA  177913.95\n",
       "4       Dragon Souveniers, Ltd.      Singapore    Singapore  156251.03\n",
       "5    Down Under Souveniers, Inc     Auckland    New Zealand  154622.08\n",
       "6                AV Stores, Co.     Manchester           UK  148410.09\n",
       "7       Anna's Decorations, Ltd   North Sydney    Australia  137034.22\n",
       "8      Corporate Gift Ideas Co.  San Francisco          USA  132340.78\n",
       "9        Saveley & Henriot, Co.           Lyon       France  130305.35"
      ]
     },
     "execution_count": 14,
     "metadata": {},
     "output_type": "execute_result"
    }
   ],
   "source": [
    "result"
   ]
  },
  {
   "cell_type": "code",
   "execution_count": 20,
   "id": "f360e469",
   "metadata": {},
   "outputs": [
    {
     "name": "stderr",
     "output_type": "stream",
     "text": [
      "C:\\Users\\THINKPAD\\AppData\\Local\\Temp\\ipykernel_11656\\2965208202.py:4: UserWarning: pandas only supports SQLAlchemy connectable (engine/connection) or database string URI or sqlite3 DBAPI2 connection. Other DBAPI2 objects are not tested. Please consider using SQLAlchemy.\n",
      "  result = pd.read_sql(query, database)\n"
     ]
    }
   ],
   "source": [
    "try:\n",
    "    database = connection.connect(host=\"localhost\", database='retrowheels', user=\"root\", passwd=\"\", use_pure=True)\n",
    "    query = \"SELECT c.customerName, pr.productName, od.quantityOrdered, od.priceEach FROM orders o JOIN customers c ON o.customerNumber = c.customerNumber JOIN orderdetails od ON o.orderNumber = od.orderNumber JOIN products pr ON od.productCode = pr.productCode JOIN payments p ON o.customerNumber = p.customerNumber WHERE p.paymentDate = '2003-06-05' AND o.orderNumber IN (SELECT o2.orderNumber FROM orders o2 JOIN orderdetails od2 ON o2.orderNumber = od2.orderNumber JOIN payments p2 ON o2.customerNumber = p2.customerNumber WHERE p2.paymentDate = '2003-06-05' GROUP BY o2.orderNumber HAVING SUM(od2.quantityOrdered * od2.priceEach) = 14571.44);\"\n",
    "    result = pd.read_sql(query, database)\n",
    "    database.close()\n",
    "except Exception as e:\n",
    "    database.close()\n",
    "    print(str(e))"
   ]
  },
  {
   "cell_type": "code",
   "execution_count": 21,
   "id": "5ff9ab7d",
   "metadata": {},
   "outputs": [
    {
     "data": {
      "text/html": [
       "<div>\n",
       "<style scoped>\n",
       "    .dataframe tbody tr th:only-of-type {\n",
       "        vertical-align: middle;\n",
       "    }\n",
       "\n",
       "    .dataframe tbody tr th {\n",
       "        vertical-align: top;\n",
       "    }\n",
       "\n",
       "    .dataframe thead th {\n",
       "        text-align: right;\n",
       "    }\n",
       "</style>\n",
       "<table border=\"1\" class=\"dataframe\">\n",
       "  <thead>\n",
       "    <tr style=\"text-align: right;\">\n",
       "      <th></th>\n",
       "      <th>customerName</th>\n",
       "      <th>productName</th>\n",
       "      <th>quantityOrdered</th>\n",
       "      <th>priceEach</th>\n",
       "    </tr>\n",
       "  </thead>\n",
       "  <tbody>\n",
       "    <tr>\n",
       "      <th>0</th>\n",
       "      <td>Atelier graphique</td>\n",
       "      <td>1965 Aston Martin DB5</td>\n",
       "      <td>26</td>\n",
       "      <td>120.71</td>\n",
       "    </tr>\n",
       "    <tr>\n",
       "      <th>1</th>\n",
       "      <td>Atelier graphique</td>\n",
       "      <td>1999 Indy 500 Monte Carlo SS</td>\n",
       "      <td>46</td>\n",
       "      <td>114.84</td>\n",
       "    </tr>\n",
       "    <tr>\n",
       "      <th>2</th>\n",
       "      <td>Atelier graphique</td>\n",
       "      <td>1948 Porsche Type 356 Roadster</td>\n",
       "      <td>34</td>\n",
       "      <td>117.26</td>\n",
       "    </tr>\n",
       "    <tr>\n",
       "      <th>3</th>\n",
       "      <td>Atelier graphique</td>\n",
       "      <td>1966 Shelby Cobra 427 S/C</td>\n",
       "      <td>50</td>\n",
       "      <td>43.27</td>\n",
       "    </tr>\n",
       "  </tbody>\n",
       "</table>\n",
       "</div>"
      ],
      "text/plain": [
       "        customerName                     productName  quantityOrdered  \\\n",
       "0  Atelier graphique           1965 Aston Martin DB5               26   \n",
       "1  Atelier graphique    1999 Indy 500 Monte Carlo SS               46   \n",
       "2  Atelier graphique  1948 Porsche Type 356 Roadster               34   \n",
       "3  Atelier graphique       1966 Shelby Cobra 427 S/C               50   \n",
       "\n",
       "   priceEach  \n",
       "0     120.71  \n",
       "1     114.84  \n",
       "2     117.26  \n",
       "3      43.27  "
      ]
     },
     "execution_count": 21,
     "metadata": {},
     "output_type": "execute_result"
    }
   ],
   "source": [
    "result"
   ]
  }
 ],
 "metadata": {
  "kernelspec": {
   "display_name": "Python 3 (ipykernel)",
   "language": "python",
   "name": "python3"
  },
  "language_info": {
   "codemirror_mode": {
    "name": "ipython",
    "version": 3
   },
   "file_extension": ".py",
   "mimetype": "text/x-python",
   "name": "python",
   "nbconvert_exporter": "python",
   "pygments_lexer": "ipython3",
   "version": "3.11.4"
  }
 },
 "nbformat": 4,
 "nbformat_minor": 5
}
